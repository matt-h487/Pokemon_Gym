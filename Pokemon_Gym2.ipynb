{
 "cells": [
  {
   "cell_type": "code",
   "execution_count": null,
   "id": "a62c53dd",
   "metadata": {
    "colab": {
     "base_uri": "https://localhost:8080/"
    },
    "executionInfo": {
     "elapsed": 35199,
     "status": "ok",
     "timestamp": 1690484567164,
     "user": {
      "displayName": "Matt",
      "userId": "11006582643102052267"
     },
     "user_tz": 300
    },
    "id": "a62c53dd",
    "outputId": "963a651d-a9d8-49e8-d781-0ebaeb9ed2fd"
   },
   "outputs": [],
   "source": [
    "!pip install gym\n",
    "!pip install stable_baselines3[extra]"
   ]
  },
  {
   "cell_type": "code",
   "execution_count": null,
   "id": "2716caca",
   "metadata": {
    "executionInfo": {
     "elapsed": 1189,
     "status": "ok",
     "timestamp": 1690484599760,
     "user": {
      "displayName": "Matt",
      "userId": "11006582643102052267"
     },
     "user_tz": 300
    },
    "id": "2716caca"
   },
   "outputs": [],
   "source": [
    "from Pokemon import Pokemon, Pokemon_Move, Pokemon_Battle\n",
    "import gymnasium as gym\n",
    "from gymnasium import Env\n",
    "from gymnasium.spaces import Discrete, Box, Tuple, MultiBinary, MultiDiscrete\n",
    "from stable_baselines3.common.evaluation import evaluate_policy\n",
    "import numpy as np\n",
    "import random\n",
    "\n"
   ]
  },
  {
   "cell_type": "code",
   "execution_count": null,
   "id": "eb5d9a0b",
   "metadata": {
    "colab": {
     "base_uri": "https://localhost:8080/"
    },
    "executionInfo": {
     "elapsed": 120,
     "status": "ok",
     "timestamp": 1690485319028,
     "user": {
      "displayName": "Matt",
      "userId": "11006582643102052267"
     },
     "user_tz": 300
    },
    "id": "eb5d9a0b",
    "outputId": "206ae849-b36d-4563-bd83-6a9fb57c6f8b"
   },
   "outputs": [],
   "source": [
    "class BattleEnv(gym.Env):\n",
    "    def __init__(self):\n",
    "        #Four moves for Pokemon\n",
    "        self.action_space = Discrete(4)\n",
    "        self.done = False\n",
    "\n",
    "        # Define the observation space for continuous attributes (Pokemon stats and move damage dealt)\n",
    "        self.num_stats = 6\n",
    "        self.num_moves = 4\n",
    "        self.observation_stats_low = np.zeros(self.num_stats)\n",
    "        self.observation_stats_high = np.array([255.0] * self.num_stats)\n",
    "\n",
    "        self.observation_damage_low = np.zeros(self.num_moves)\n",
    "        self.observation_damage_high = np.array([100.0] * self.num_moves)\n",
    "\n",
    "        # Define the observation space for discrete attributes (types, move types,)\n",
    "        self.num_types = 18\n",
    "        self.num_damage_types = 3\n",
    "        self.pokemon_types = ['normal', 'fighting', 'flying', 'poison', 'ground', 'rock', 'bug', 'ghost', 'steel', 'fire', 'water', 'grass', 'electric', 'psychic', 'ice', 'dragon', 'dark', 'fairy']\n",
    "        self.type_to_index = {type_name: idx for idx, type_name in enumerate(self.pokemon_types)}\n",
    "        self.damage_types = ['physical', 'special', 'status']\n",
    "\n",
    "\n",
    "        # Combine the continuous and discrete attributes\n",
    "        self.observation_space = gym.spaces.Dict({\n",
    "            'player_stats': gym.spaces.Box(low=self.observation_stats_low, high=self.observation_stats_high, dtype=np.float32),\n",
    "            'player_pokemon_types': gym.spaces.MultiBinary(self.num_types),\n",
    "            'player_move_types': gym.spaces.MultiDiscrete([self.num_types, self.num_types, self.num_types, self.num_types]),\n",
    "            'player_move_damage': gym.spaces.Box(low=self.observation_damage_low, high=self.observation_damage_high, dtype=np.float32),\n",
    "            'player_previous_moves': gym.spaces.MultiBinary(self.num_moves),\n",
    "            'opponent_move_types': gym.spaces.MultiDiscrete([self.num_types, self.num_types, self.num_types, self.num_types]),\n",
    "            'opponent_previous_moves': gym.spaces.MultiBinary(self.num_moves),\n",
    "        })\n",
    "\n",
    "\n",
    "\n",
    "    def step(self, action):\n",
    "        #Check speed for who goes first, then perform turn if both Pokemon are up\n",
    "        opponent_action = Discrete(4).sample()\n",
    "        if self.Pokemon1.hp > 0 and self.Pokemon2.hp > 0:\n",
    "            if self.Pokemon1.speed > self.Pokemon2.speed:\n",
    "                self.battle.perform_turn(self.Pokemon1, self.Pokemon2, action)\n",
    "                if self.Pokemon2.hp > 0:\n",
    "                    self.battle.perform_turn(self.Pokemon2, self.Pokemon1, opponent_action)\n",
    "                else:\n",
    "                    print(f'{self.Pokemon2.name.capitalize()} has fainted.')\n",
    "                    self.done = True\n",
    "            elif self.Pokemon2.speed > self.Pokemon1.speed:\n",
    "                self.battle.perform_turn(self.Pokemon2, self.Pokemon1, opponent_action)\n",
    "                if self.Pokemon1.hp > 0:\n",
    "                    self.battle.perform_turn(self.Pokemon1, self.Pokemon2, action)\n",
    "                else:\n",
    "                    print(f'{self.Pokemon1.name.capitalize()} has fainted.')\n",
    "                    self.done = True\n",
    "            else:\n",
    "                #if speed is equal, who goes first is random\n",
    "                first_pokemon = random.choice([self.Pokemon1, self.Pokemon2])\n",
    "                second_pokemon = self.Pokemon2 if first_pokemon == self.Pokemon1 else self.Pokemon1\n",
    "                self.battle.perform_turn(first_pokemon, second_pokemon, action if first_pokemon == self.Pokemon1 else opponent_action)\n",
    "                if second_pokemon.hp > 0:\n",
    "                    self.battle.perform_turn(second_pokemon, first_pokemon, action if second_pokemon == self.Pokemon1 else opponent_action)\n",
    "                else:\n",
    "                    print(f'{second_pokemon.name.capitalize()} has fainted.')\n",
    "                    self.done = True\n",
    "        else:\n",
    "            self.done = True\n",
    "\n",
    "        observation = self.get_observation()\n",
    "        reward = self.get_reward()\n",
    "        info = {}\n",
    "\n",
    "        return observation, reward, self.done, False, info\n",
    "\n",
    "\n",
    "    def render(self):\n",
    "        if not self.done:\n",
    "            print(f'{self.Pokemon1.name.capitalize()} has {self.Pokemon1.hp} hp.')\n",
    "            print(f'{self.Pokemon2.name.capitalize()} has {self.Pokemon2.hp} hp.')\n",
    "\n",
    "    def reset(self, seed=None):\n",
    "        self.Pokemon1 = self.get_random_pokemon()  # Get a random player Pokemon\n",
    "        self.Pokemon2 = self.get_random_pokemon()  # Get a random opponent Pokemon\n",
    "        self.battle = Pokemon_Battle(self.Pokemon1, self.Pokemon2)\n",
    "        self.done = False\n",
    "\n",
    "        # Get the initial observation\n",
    "        observation = self.get_observation()\n",
    "\n",
    "        info = {}\n",
    "\n",
    "        return observation, info\n",
    "\n",
    "    def get_reward(self):\n",
    "\n",
    "        if self.done:\n",
    "            if self.Pokemon1.hp <= 0:\n",
    "                # Player Pokemon has fainted, so the agent lost the battle\n",
    "                reward = -50  # Penalty for losing the battle\n",
    "            elif self.Pokemon2.hp <= 0:\n",
    "                # Opponent Pokemon has fainted, so the agent won the battle\n",
    "                reward = 50  # Reward for winning the battle\n",
    "            else:\n",
    "                # The battle ended in a draw or some other unknown condition\n",
    "                reward = 0\n",
    "        else:\n",
    "            reward = self.Pokemon1.damage\n",
    "\n",
    "        return reward\n",
    "\n",
    "    def get_observation(self):\n",
    "        # Observation for player's Pokemon\n",
    "        player_observation_stats = np.array([self.Pokemon1.hp, self.Pokemon1.attack, self.Pokemon1.defense,\n",
    "                                             self.Pokemon1.spattack, self.Pokemon1.spdefense, self.Pokemon1.speed],\n",
    "                                            dtype=np.float32)\n",
    "\n",
    "        player_observation_types = np.zeros(self.num_types, dtype=np.int8)\n",
    "        for type_name in self.Pokemon1.types:\n",
    "            type_idx = self.type_to_index[type_name]\n",
    "            player_observation_types[type_idx] = 1.0\n",
    "\n",
    "        player_observation_move_types = np.zeros(self.num_moves, dtype=np.int64)\n",
    "        for move_idx, move in enumerate(self.Pokemon1.moves):\n",
    "            move_type_idx = self.type_to_index[move.type]\n",
    "            player_observation_move_types[move_idx] = 1.0\n",
    "\n",
    "\n",
    "        player_observation_move_damage = np.zeros(self.num_moves, dtype=np.float32)\n",
    "        for move_idx, move in enumerate(self.Pokemon1.moves):\n",
    "            if not np.isnan(self.Pokemon1.damage):\n",
    "                player_observation_move_damage[move_idx] = np.clip(self.Pokemon1.damage, 0.0, 100.0)\n",
    "            else:\n",
    "                player_observation_move_damage[move_idx] = 0.0\n",
    "\n",
    "        player_observation_previous_moves = np.zeros(self.num_moves, dtype=np.int8)\n",
    "        for move_idx, move in enumerate(self.Pokemon1.moves):\n",
    "            if move in self.Pokemon1.previous_moves:\n",
    "                player_observation_previous_moves[move_idx] = 1.0\n",
    "\n",
    "        # Observation for opponent's Pokemon (types and previously used moves are not visible)\n",
    "        opponent_observation_move_types = np.zeros(self.num_moves, dtype=np.int64)\n",
    "        for move_idx, move in enumerate(self.Pokemon2.moves):\n",
    "            move_type_idx = self.type_to_index[move.type]\n",
    "            opponent_observation_move_types[move_idx] = 1.0\n",
    "\n",
    "\n",
    "        opponent_observation_previous_moves = np.zeros(self.num_moves, dtype=np.int8)\n",
    "        for move_idx, move in enumerate(self.Pokemon2.moves):\n",
    "            if move in self.Pokemon2.previous_moves:\n",
    "                opponent_observation_previous_moves[move_idx] = 1.0\n",
    "\n",
    "        observation = {\n",
    "            'player_stats': player_observation_stats,\n",
    "            'player_pokemon_types': player_observation_types,\n",
    "            'player_move_types': player_observation_move_types,\n",
    "            'player_move_damage': player_observation_move_damage,\n",
    "            'player_previous_moves': player_observation_previous_moves,\n",
    "            'opponent_move_types': opponent_observation_move_types,\n",
    "            'opponent_previous_moves': opponent_observation_previous_moves,\n",
    "        }\n",
    "\n",
    "        return observation\n",
    "\n",
    "\n",
    "    def get_random_pokemon(self):\n",
    "        #dictionary of pokemon\n",
    "        pre_built_pokemon = {\n",
    "        \"venusaur\": [\"vine-whip\", \"razor-leaf\", \"sludge-bomb\", \"leer\"],\n",
    "        \"charizard\": [\"flamethrower\", \"wing-attack\", \"dragon-claw\", \"growl\"],\n",
    "        \"blastoise\": [\"water-gun\", \"hydro-pump\", \"ice-beam\", \"bite\"],\n",
    "        \"raichu\": [\"thunderbolt\", \"volt-switch\", \"tackle\", \"growl\"],\n",
    "        \"wigglytuff\": [\"dazzling-gleam\", \"play-rough\", \"leer\", \"tackle\"],\n",
    "        \"persian\": [\"slash\", \"night-slash\", \"swift\", \"leer\"],\n",
    "    }\n",
    "\n",
    "        PokeName = random.choice(list(pre_built_pokemon.keys()))\n",
    "        moves = pre_built_pokemon[PokeName]\n",
    "        list_moves = []\n",
    "        for move in moves:\n",
    "            list_moves.append(Pokemon_Move(move))\n",
    "        pokemon = Pokemon(PokeName, list_moves)\n",
    "\n",
    "        return pokemon\n"
   ]
  },
  {
   "cell_type": "code",
   "execution_count": null,
   "id": "25898940",
   "metadata": {
    "colab": {
     "base_uri": "https://localhost:8080/"
    },
    "executionInfo": {
     "elapsed": 158,
     "status": "ok",
     "timestamp": 1690485326612,
     "user": {
      "displayName": "Matt",
      "userId": "11006582643102052267"
     },
     "user_tz": 300
    },
    "id": "25898940",
    "outputId": "019a5d4e-7588-470a-a1a3-a770393ec0cf"
   },
   "outputs": [],
   "source": [
    "env = BattleEnv()"
   ]
  },
  {
   "cell_type": "code",
   "execution_count": null,
   "id": "10ea0565",
   "metadata": {
    "id": "10ea0565"
   },
   "outputs": [],
   "source": [
    "env.observation_space.sample()"
   ]
  },
  {
   "cell_type": "code",
   "execution_count": null,
   "id": "a9463702",
   "metadata": {
    "id": "a9463702"
   },
   "outputs": [],
   "source": [
    "env.reset()"
   ]
  },
  {
   "cell_type": "code",
   "execution_count": null,
   "id": "79263452",
   "metadata": {
    "id": "79263452"
   },
   "outputs": [],
   "source": [
    "from stable_baselines3.common.env_checker import check_env"
   ]
  },
  {
   "cell_type": "code",
   "execution_count": null,
   "id": "a4de0900",
   "metadata": {
    "id": "a4de0900"
   },
   "outputs": [],
   "source": [
    "check_env(env, warn=True)"
   ]
  },
  {
   "cell_type": "code",
   "execution_count": null,
   "id": "8d833e64",
   "metadata": {
    "id": "8d833e64"
   },
   "outputs": [],
   "source": [
    "Discrete(4).sample()"
   ]
  },
  {
   "cell_type": "code",
   "execution_count": null,
   "id": "0b7774c1",
   "metadata": {
    "colab": {
     "base_uri": "https://localhost:8080/"
    },
    "executionInfo": {
     "elapsed": 11501,
     "status": "ok",
     "timestamp": 1690484628931,
     "user": {
      "displayName": "Matt",
      "userId": "11006582643102052267"
     },
     "user_tz": 300
    },
    "id": "0b7774c1",
    "outputId": "de0483d2-7716-4638-9f2b-4fd11cd6b783"
   },
   "outputs": [],
   "source": [
    "episodes = 3\n",
    "for episode in range(1, episodes+1):\n",
    "    state = env.reset()\n",
    "    done = False\n",
    "    score = 0\n",
    "\n",
    "    while not done:\n",
    "        env.render()\n",
    "        action = env.action_space.sample()\n",
    "        obs, reward, done, info = env.step(action)\n",
    "        score+=reward\n",
    "    print('Episode:{} Score:{}'.format(episode, score))\n",
    "env.close()"
   ]
  },
  {
   "cell_type": "code",
   "execution_count": null,
   "id": "93440667",
   "metadata": {
    "colab": {
     "base_uri": "https://localhost:8080/"
    },
    "executionInfo": {
     "elapsed": 114,
     "status": "ok",
     "timestamp": 1690484789269,
     "user": {
      "displayName": "Matt",
      "userId": "11006582643102052267"
     },
     "user_tz": 300
    },
    "id": "93440667",
    "outputId": "c773f965-e659-425e-8603-6e7b370c305b"
   },
   "outputs": [],
   "source": [
    "from stable_baselines3 import PPO\n",
    "from stable_baselines3.common.vec_env import DummyVecEnv"
   ]
  },
  {
   "cell_type": "code",
   "execution_count": null,
   "id": "Y7yqn0yKvytm",
   "metadata": {
    "colab": {
     "base_uri": "https://localhost:8080/"
    },
    "executionInfo": {
     "elapsed": 128,
     "status": "ok",
     "timestamp": 1690485348608,
     "user": {
      "displayName": "Matt",
      "userId": "11006582643102052267"
     },
     "user_tz": 300
    },
    "id": "Y7yqn0yKvytm",
    "outputId": "ea0dd2d2-349e-46a8-bdc5-d33e79288386"
   },
   "outputs": [],
   "source": [
    "model = PPO(\"MultiInputPolicy\", env, verbose=1, tensorboard_log='Models')"
   ]
  },
  {
   "cell_type": "code",
   "execution_count": null,
   "id": "B9L1nJ-5w2Kx",
   "metadata": {
    "colab": {
     "base_uri": "https://localhost:8080/",
     "height": 1000
    },
    "executionInfo": {
     "elapsed": 1412712,
     "status": "error",
     "timestamp": 1690489564345,
     "user": {
      "displayName": "Matt",
      "userId": "11006582643102052267"
     },
     "user_tz": 300
    },
    "id": "B9L1nJ-5w2Kx",
    "outputId": "1c311543-a1c2-4cb1-bf02-b3a8039b02e8"
   },
   "outputs": [],
   "source": [
    "model.learn(total_timesteps=40000)"
   ]
  },
  {
   "cell_type": "code",
   "execution_count": null,
   "id": "bfufQL1Ly2Ud",
   "metadata": {
    "executionInfo": {
     "elapsed": 165,
     "status": "ok",
     "timestamp": 1690489626493,
     "user": {
      "displayName": "Matt",
      "userId": "11006582643102052267"
     },
     "user_tz": 300
    },
    "id": "bfufQL1Ly2Ud"
   },
   "outputs": [],
   "source": [
    "model.save('Models')"
   ]
  },
  {
   "cell_type": "code",
   "execution_count": null,
   "id": "EzPpEM5jDXPa",
   "metadata": {
    "colab": {
     "base_uri": "https://localhost:8080/"
    },
    "executionInfo": {
     "elapsed": 33981,
     "status": "ok",
     "timestamp": 1690490009279,
     "user": {
      "displayName": "Matt",
      "userId": "11006582643102052267"
     },
     "user_tz": 300
    },
    "id": "EzPpEM5jDXPa",
    "outputId": "65f577fe-a89e-4b9b-9088-32cf7d09d313"
   },
   "outputs": [],
   "source": [
    "evaluate_policy(model, env, n_eval_episodes=10, render=True)"
   ]
  },
  {
   "cell_type": "code",
   "execution_count": null,
   "id": "UuRYYriyEwOI",
   "metadata": {
    "colab": {
     "base_uri": "https://localhost:8080/"
    },
    "executionInfo": {
     "elapsed": 108836,
     "status": "ok",
     "timestamp": 1690490450157,
     "user": {
      "displayName": "Matt",
      "userId": "11006582643102052267"
     },
     "user_tz": 300
    },
    "id": "UuRYYriyEwOI",
    "outputId": "f2da6544-2f30-4d86-93c1-6c07fa3a6bc0"
   },
   "outputs": [],
   "source": [
    "!tensorboard --logdir Models.zip"
   ]
  }
 ],
 "metadata": {
  "colab": {
   "provenance": []
  },
  "kernelspec": {
   "display_name": "Python 3 (ipykernel)",
   "language": "python",
   "name": "python3"
  },
  "language_info": {
   "codemirror_mode": {
    "name": "ipython",
    "version": 3
   },
   "file_extension": ".py",
   "mimetype": "text/x-python",
   "name": "python",
   "nbconvert_exporter": "python",
   "pygments_lexer": "ipython3",
   "version": "3.10.9"
  }
 },
 "nbformat": 4,
 "nbformat_minor": 5
}
