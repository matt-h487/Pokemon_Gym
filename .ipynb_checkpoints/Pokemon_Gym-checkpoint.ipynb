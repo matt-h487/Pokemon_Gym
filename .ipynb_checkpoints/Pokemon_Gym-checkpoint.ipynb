{
 "cells": [
  {
   "cell_type": "code",
   "execution_count": 1,
   "id": "a62c53dd",
   "metadata": {},
   "outputs": [
    {
     "name": "stdout",
     "output_type": "stream",
     "text": [
      "Requirement already satisfied: gym in c:\\users\\matth\\anaconda3\\lib\\site-packages (0.26.2)\n",
      "Requirement already satisfied: cloudpickle>=1.2.0 in c:\\users\\matth\\anaconda3\\lib\\site-packages (from gym) (2.0.0)\n",
      "Requirement already satisfied: gym-notices>=0.0.4 in c:\\users\\matth\\anaconda3\\lib\\site-packages (from gym) (0.0.8)\n",
      "Requirement already satisfied: numpy>=1.18.0 in c:\\users\\matth\\anaconda3\\lib\\site-packages (from gym) (1.23.5)\n",
      "Requirement already satisfied: stable_baselines3[extra] in c:\\users\\matth\\anaconda3\\lib\\site-packages (2.0.0)\n",
      "Requirement already satisfied: cloudpickle in c:\\users\\matth\\anaconda3\\lib\\site-packages (from stable_baselines3[extra]) (2.0.0)\n",
      "Requirement already satisfied: gymnasium==0.28.1 in c:\\users\\matth\\anaconda3\\lib\\site-packages (from stable_baselines3[extra]) (0.28.1)\n",
      "Requirement already satisfied: torch>=1.11 in c:\\users\\matth\\anaconda3\\lib\\site-packages (from stable_baselines3[extra]) (1.12.1)\n",
      "Requirement already satisfied: numpy>=1.20 in c:\\users\\matth\\anaconda3\\lib\\site-packages (from stable_baselines3[extra]) (1.23.5)\n",
      "Requirement already satisfied: matplotlib in c:\\users\\matth\\anaconda3\\lib\\site-packages (from stable_baselines3[extra]) (3.7.0)\n",
      "Requirement already satisfied: pandas in c:\\users\\matth\\anaconda3\\lib\\site-packages (from stable_baselines3[extra]) (1.5.3)\n",
      "Requirement already satisfied: opencv-python in c:\\users\\matth\\anaconda3\\lib\\site-packages (from stable_baselines3[extra]) (4.8.0.74)\n",
      "Requirement already satisfied: psutil in c:\\users\\matth\\anaconda3\\lib\\site-packages (from stable_baselines3[extra]) (5.9.0)\n",
      "Requirement already satisfied: autorom[accept-rom-license]~=0.6.0 in c:\\users\\matth\\anaconda3\\lib\\site-packages (from stable_baselines3[extra]) (0.6.1)\n",
      "Requirement already satisfied: pillow in c:\\users\\matth\\anaconda3\\lib\\site-packages (from stable_baselines3[extra]) (9.4.0)\n",
      "Requirement already satisfied: rich in c:\\users\\matth\\anaconda3\\lib\\site-packages (from stable_baselines3[extra]) (13.4.2)\n",
      "Requirement already satisfied: tensorboard>=2.9.1 in c:\\users\\matth\\anaconda3\\lib\\site-packages (from stable_baselines3[extra]) (2.13.0)\n",
      "Requirement already satisfied: tqdm in c:\\users\\matth\\anaconda3\\lib\\site-packages (from stable_baselines3[extra]) (4.64.1)\n",
      "Requirement already satisfied: pygame in c:\\users\\matth\\anaconda3\\lib\\site-packages (from stable_baselines3[extra]) (2.5.0)\n",
      "Requirement already satisfied: shimmy[atari]~=0.2.1 in c:\\users\\matth\\anaconda3\\lib\\site-packages (from stable_baselines3[extra]) (0.2.1)\n",
      "Requirement already satisfied: typing-extensions>=4.3.0 in c:\\users\\matth\\anaconda3\\lib\\site-packages (from gymnasium==0.28.1->stable_baselines3[extra]) (4.4.0)\n",
      "Requirement already satisfied: farama-notifications>=0.0.1 in c:\\users\\matth\\anaconda3\\lib\\site-packages (from gymnasium==0.28.1->stable_baselines3[extra]) (0.0.4)\n",
      "Requirement already satisfied: jax-jumpy>=1.0.0 in c:\\users\\matth\\anaconda3\\lib\\site-packages (from gymnasium==0.28.1->stable_baselines3[extra]) (1.0.0)\n",
      "Requirement already satisfied: click in c:\\users\\matth\\anaconda3\\lib\\site-packages (from autorom[accept-rom-license]~=0.6.0->stable_baselines3[extra]) (8.0.4)\n",
      "Requirement already satisfied: requests in c:\\users\\matth\\anaconda3\\lib\\site-packages (from autorom[accept-rom-license]~=0.6.0->stable_baselines3[extra]) (2.28.1)\n",
      "Requirement already satisfied: AutoROM.accept-rom-license in c:\\users\\matth\\anaconda3\\lib\\site-packages (from autorom[accept-rom-license]~=0.6.0->stable_baselines3[extra]) (0.6.1)\n",
      "Requirement already satisfied: ale-py~=0.8.1 in c:\\users\\matth\\anaconda3\\lib\\site-packages (from shimmy[atari]~=0.2.1->stable_baselines3[extra]) (0.8.1)\n",
      "Requirement already satisfied: google-auth<3,>=1.6.3 in c:\\users\\matth\\anaconda3\\lib\\site-packages (from tensorboard>=2.9.1->stable_baselines3[extra]) (2.21.0)\n",
      "Requirement already satisfied: setuptools>=41.0.0 in c:\\users\\matth\\anaconda3\\lib\\site-packages (from tensorboard>=2.9.1->stable_baselines3[extra]) (65.6.3)\n",
      "Requirement already satisfied: protobuf>=3.19.6 in c:\\users\\matth\\anaconda3\\lib\\site-packages (from tensorboard>=2.9.1->stable_baselines3[extra]) (4.23.3)\n",
      "Requirement already satisfied: tensorboard-data-server<0.8.0,>=0.7.0 in c:\\users\\matth\\anaconda3\\lib\\site-packages (from tensorboard>=2.9.1->stable_baselines3[extra]) (0.7.1)\n",
      "Requirement already satisfied: absl-py>=0.4 in c:\\users\\matth\\anaconda3\\lib\\site-packages (from tensorboard>=2.9.1->stable_baselines3[extra]) (1.4.0)\n",
      "Requirement already satisfied: werkzeug>=1.0.1 in c:\\users\\matth\\anaconda3\\lib\\site-packages (from tensorboard>=2.9.1->stable_baselines3[extra]) (2.2.2)\n",
      "Requirement already satisfied: wheel>=0.26 in c:\\users\\matth\\anaconda3\\lib\\site-packages (from tensorboard>=2.9.1->stable_baselines3[extra]) (0.38.4)\n",
      "Requirement already satisfied: markdown>=2.6.8 in c:\\users\\matth\\anaconda3\\lib\\site-packages (from tensorboard>=2.9.1->stable_baselines3[extra]) (3.4.1)\n",
      "Requirement already satisfied: google-auth-oauthlib<1.1,>=0.5 in c:\\users\\matth\\anaconda3\\lib\\site-packages (from tensorboard>=2.9.1->stable_baselines3[extra]) (1.0.0)\n",
      "Requirement already satisfied: grpcio>=1.48.2 in c:\\users\\matth\\anaconda3\\lib\\site-packages (from tensorboard>=2.9.1->stable_baselines3[extra]) (1.56.0)\n",
      "Requirement already satisfied: cycler>=0.10 in c:\\users\\matth\\anaconda3\\lib\\site-packages (from matplotlib->stable_baselines3[extra]) (0.11.0)\n",
      "Requirement already satisfied: pyparsing>=2.3.1 in c:\\users\\matth\\anaconda3\\lib\\site-packages (from matplotlib->stable_baselines3[extra]) (3.0.9)\n",
      "Requirement already satisfied: packaging>=20.0 in c:\\users\\matth\\anaconda3\\lib\\site-packages (from matplotlib->stable_baselines3[extra]) (22.0)\n",
      "Requirement already satisfied: contourpy>=1.0.1 in c:\\users\\matth\\anaconda3\\lib\\site-packages (from matplotlib->stable_baselines3[extra]) (1.0.5)\n",
      "Requirement already satisfied: fonttools>=4.22.0 in c:\\users\\matth\\anaconda3\\lib\\site-packages (from matplotlib->stable_baselines3[extra]) (4.25.0)\n",
      "Requirement already satisfied: kiwisolver>=1.0.1 in c:\\users\\matth\\anaconda3\\lib\\site-packages (from matplotlib->stable_baselines3[extra]) (1.4.4)\n",
      "Requirement already satisfied: python-dateutil>=2.7 in c:\\users\\matth\\anaconda3\\lib\\site-packages (from matplotlib->stable_baselines3[extra]) (2.8.2)\n",
      "Requirement already satisfied: pytz>=2020.1 in c:\\users\\matth\\anaconda3\\lib\\site-packages (from pandas->stable_baselines3[extra]) (2022.7)\n",
      "Requirement already satisfied: pygments<3.0.0,>=2.13.0 in c:\\users\\matth\\anaconda3\\lib\\site-packages (from rich->stable_baselines3[extra]) (2.15.1)\n",
      "Requirement already satisfied: markdown-it-py>=2.2.0 in c:\\users\\matth\\anaconda3\\lib\\site-packages (from rich->stable_baselines3[extra]) (3.0.0)\n",
      "Requirement already satisfied: colorama in c:\\users\\matth\\anaconda3\\lib\\site-packages (from tqdm->stable_baselines3[extra]) (0.4.6)\n",
      "Requirement already satisfied: importlib-resources in c:\\users\\matth\\anaconda3\\lib\\site-packages (from ale-py~=0.8.1->shimmy[atari]~=0.2.1->stable_baselines3[extra]) (5.12.0)\n",
      "Requirement already satisfied: six>=1.9.0 in c:\\users\\matth\\anaconda3\\lib\\site-packages (from google-auth<3,>=1.6.3->tensorboard>=2.9.1->stable_baselines3[extra]) (1.16.0)\n",
      "Requirement already satisfied: cachetools<6.0,>=2.0.0 in c:\\users\\matth\\anaconda3\\lib\\site-packages (from google-auth<3,>=1.6.3->tensorboard>=2.9.1->stable_baselines3[extra]) (5.3.1)\n",
      "Requirement already satisfied: rsa<5,>=3.1.4 in c:\\users\\matth\\anaconda3\\lib\\site-packages (from google-auth<3,>=1.6.3->tensorboard>=2.9.1->stable_baselines3[extra]) (4.9)\n",
      "Requirement already satisfied: urllib3<2.0 in c:\\users\\matth\\anaconda3\\lib\\site-packages (from google-auth<3,>=1.6.3->tensorboard>=2.9.1->stable_baselines3[extra]) (1.26.14)\n",
      "Requirement already satisfied: pyasn1-modules>=0.2.1 in c:\\users\\matth\\anaconda3\\lib\\site-packages (from google-auth<3,>=1.6.3->tensorboard>=2.9.1->stable_baselines3[extra]) (0.2.8)\n",
      "Requirement already satisfied: requests-oauthlib>=0.7.0 in c:\\users\\matth\\anaconda3\\lib\\site-packages (from google-auth-oauthlib<1.1,>=0.5->tensorboard>=2.9.1->stable_baselines3[extra]) (1.3.1)\n",
      "Requirement already satisfied: mdurl~=0.1 in c:\\users\\matth\\anaconda3\\lib\\site-packages (from markdown-it-py>=2.2.0->rich->stable_baselines3[extra]) (0.1.2)\n",
      "Requirement already satisfied: idna<4,>=2.5 in c:\\users\\matth\\anaconda3\\lib\\site-packages (from requests->autorom[accept-rom-license]~=0.6.0->stable_baselines3[extra]) (3.4)\n",
      "Requirement already satisfied: certifi>=2017.4.17 in c:\\users\\matth\\anaconda3\\lib\\site-packages (from requests->autorom[accept-rom-license]~=0.6.0->stable_baselines3[extra]) (2023.5.7)\n",
      "Requirement already satisfied: charset-normalizer<3,>=2 in c:\\users\\matth\\anaconda3\\lib\\site-packages (from requests->autorom[accept-rom-license]~=0.6.0->stable_baselines3[extra]) (2.0.4)\n",
      "Requirement already satisfied: MarkupSafe>=2.1.1 in c:\\users\\matth\\anaconda3\\lib\\site-packages (from werkzeug>=1.0.1->tensorboard>=2.9.1->stable_baselines3[extra]) (2.1.1)\n",
      "Requirement already satisfied: pyasn1<0.5.0,>=0.4.6 in c:\\users\\matth\\anaconda3\\lib\\site-packages (from pyasn1-modules>=0.2.1->google-auth<3,>=1.6.3->tensorboard>=2.9.1->stable_baselines3[extra]) (0.4.8)\n",
      "Requirement already satisfied: oauthlib>=3.0.0 in c:\\users\\matth\\anaconda3\\lib\\site-packages (from requests-oauthlib>=0.7.0->google-auth-oauthlib<1.1,>=0.5->tensorboard>=2.9.1->stable_baselines3[extra]) (3.2.2)\n"
     ]
    }
   ],
   "source": [
    "!pip install gym\n",
    "!pip install stable_baselines3[extra]"
   ]
  },
  {
   "cell_type": "code",
   "execution_count": 1,
   "id": "2716caca",
   "metadata": {},
   "outputs": [
    {
     "name": "stdout",
     "output_type": "stream",
     "text": [
      "Sceptile has 130 hp.\n",
      "Blastoise has 139 hp.\n",
      "Leaf-blade: 15 pp, 90 power, 100 accuracy, grass\n",
      "Shadow-ball: 15 pp, 80 power, 100 accuracy, ghost\n",
      "Swords-dance: 20 pp, None power, 100 accuracy, normal\n",
      "Bullet-seed: 30 pp, 25 power, 100 accuracy, grass\n",
      "Choose a move: leaf-blade\n",
      "Super Effective!\n",
      "2.0\n",
      "Crunch: 15 pp, 80 power, 100 accuracy, dark\n",
      "Leer: 30 pp, None power, 100 accuracy, normal\n",
      "Surf: 15 pp, 90 power, 100 accuracy, water\n",
      "Ice-beam: 10 pp, 90 power, 100 accuracy, ice\n",
      "Choose a move: Ice-beam\n",
      "Super Effective!\n",
      "2.0\n",
      "Sceptile has 46.8 hp.\n",
      "Blastoise has 31.171428571428578 hp.\n",
      "Leaf-blade: 15 pp, 90 power, 100 accuracy, grass\n",
      "Shadow-ball: 15 pp, 80 power, 100 accuracy, ghost\n",
      "Swords-dance: 20 pp, None power, 100 accuracy, normal\n",
      "Bullet-seed: 30 pp, 25 power, 100 accuracy, grass\n",
      "Choose a move: bullet-seed\n",
      "Super Effective!\n",
      "2.0\n",
      "Blastoise has fainted.\n"
     ]
    }
   ],
   "source": [
    "from Pokemon import Pokemon, Pokemon_Move, Pokemon_Battle\n",
    "import gym\n",
    "from gym import Env\n",
    "import numpy as np"
   ]
  },
  {
   "cell_type": "code",
   "execution_count": 5,
   "id": "93ee0729",
   "metadata": {},
   "outputs": [],
   "source": [
    " # Define the observation space for continuous attributes (Pokemon stats and move damage dealt)\n",
    "num_stats = 6  # Number of Pokemon stats (HP, Attack, Defense, SpAttack, SpDefense, Speed)\n",
    "num_moves = 4  # Number of moves each Pokemon can have\n",
    "observation_stats_low = np.zeros(num_stats)\n",
    "observation_stats_high = np.array([255.0] * num_stats)\n",
    "\n",
    "observation_damage_low = np.zeros(num_moves)\n",
    "observation_damage_high = np.array([100.0] * num_moves)\n",
    "\n",
    "        # Define the observation space for discrete attributes (types, move types, and previously used moves)\n",
    "num_types = 18  # Number of Pokemon types\n",
    "num_damage_types = 3  # Number of damage types (special, physical, status)\n",
    "observation_types_low = np.zeros(num_types)\n",
    "observation_types_high = np.array([1.0] * num_types)\n",
    "observation_damage_types_low = np.zeros(num_damage_types)\n",
    "observation_damage_types_high = np.array([1.0] * num_damage_types)\n",
    "\n",
    "        "
   ]
  },
  {
   "cell_type": "code",
   "execution_count": 4,
   "id": "eb5d9a0b",
   "metadata": {},
   "outputs": [
    {
     "ename": "TypeError",
     "evalue": "Pokemon_Battle.__init__() missing 2 required positional arguments: 'Pokemon1' and 'Pokemon2'",
     "output_type": "error",
     "traceback": [
      "\u001b[1;31m---------------------------------------------------------------------------\u001b[0m",
      "\u001b[1;31mTypeError\u001b[0m                                 Traceback (most recent call last)",
      "Cell \u001b[1;32mIn[4], line 1\u001b[0m\n\u001b[1;32m----> 1\u001b[0m battle \u001b[38;5;241m=\u001b[39m \u001b[43mPokemon\u001b[49m\u001b[38;5;241;43m.\u001b[39;49m\u001b[43mPokemon_Battle\u001b[49m\u001b[43m(\u001b[49m\u001b[43m)\u001b[49m\n",
      "\u001b[1;31mTypeError\u001b[0m: Pokemon_Battle.__init__() missing 2 required positional arguments: 'Pokemon1' and 'Pokemon2'"
     ]
    }
   ],
   "source": [
    "class BattleEnv(Env):\n",
    "    def __init__(self):\n",
    "        #Four moves for Pokemon\n",
    "        self.action_space = Discrete(4)\n",
    "        #Combine the continuous and discrete attributes\n",
    "        self.observation_space = self.observation_space = gym.spaces.Tuple([\n",
    "            gym.spaces.Box(low=self.observation_stats_low, high=self.observation_stats_high, dtype=np.float32),\n",
    "            gym.spaces.MultiDiscrete([num_types, num_types]),      # Player's Pokemon types\n",
    "            gym.spaces.MultiDiscrete([num_types, num_types, num_types, num_types]),  # Move types of the player's Pokemon moves\n",
    "            gym.spaces.Box(low=self.observation_damage_low, high=self.observation_damage_high, dtype=np.float32),  # Damage dealt by the player's Pokemon moves\n",
    "            gym.spaces.MultiBinary(num_moves),                    # Previous moves used by the player's Pokemon\n",
    "            gym.spaces.MultiDiscrete([num_types, num_types, num_types, num_types]),  # Move types of the opponent's Pokemon moves\n",
    "            gym.spaces.MultiBinary(num_moves),                    # Previous moves used by the opponent's Pokemon\n",
    "        ])\n",
    "        \n",
    "    def step(self, action):\n",
    "        self.perform_turn()\n",
    "    def render(self):\n",
    "        pass\n",
    "    def reset(self):\n",
    "        self.player_pokemon = self.get_random_pokemon()  # Get a random player Pokemon\n",
    "        self.opponent_pokemon = self.get_random_pokemon()  # Get a random opponent Pokemon\n",
    "        self.current_turn_number = 1\n",
    "        self.any_status_condition_active = False\n",
    "        self.previous_action = None\n",
    "        self.previous_opponent_action = None\n",
    "\n",
    "        # Get the initial observation\n",
    "        observation = self.get_observation()\n",
    "\n",
    "        return observation\n",
    "    \n",
    "    def get_reward(self):\n",
    "        pass\n",
    "    \n",
    "    def get_observation(self):\n",
    "        pass\n",
    "    \n",
    "    def get_random_Pokemon:\n",
    "        "
   ]
  }
 ],
 "metadata": {
  "kernelspec": {
   "display_name": "Python 3 (ipykernel)",
   "language": "python",
   "name": "python3"
  },
  "language_info": {
   "codemirror_mode": {
    "name": "ipython",
    "version": 3
   },
   "file_extension": ".py",
   "mimetype": "text/x-python",
   "name": "python",
   "nbconvert_exporter": "python",
   "pygments_lexer": "ipython3",
   "version": "3.10.9"
  }
 },
 "nbformat": 4,
 "nbformat_minor": 5
}
